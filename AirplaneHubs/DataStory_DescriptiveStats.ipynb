{
 "cells": [
  {
   "cell_type": "markdown",
   "id": "d88d3429-388b-4bb0-a3da-951c6de5f67e",
   "metadata": {},
   "source": [
    "# Descriptive Stats"
   ]
  },
  {
   "cell_type": "markdown",
   "id": "711964ca-8fac-45d3-997c-952a8e085eec",
   "metadata": {},
   "source": [
    "#### Vorgaben\n",
    "\n",
    "- Komplette Beschreibung ihres Datensatzes:\n",
    "    - inklusive qualitativer und quantitativer Beschreibung der Variablen\n",
    "    - allfälliger Zusammenhänge zwischen Variablenpaaren.\n",
    "(Was bereits im Readme dokumentiert ist, muss nicht kopiert werden.)\n",
    "\n",
    "#### Abgabe\n",
    "\n",
    "**06. Dezember 2021**."
   ]
  },
  {
   "cell_type": "markdown",
   "id": "41724122-9cde-4239-91af-9e545d2f858b",
   "metadata": {},
   "source": [
    "#### Quantitative Beschreibung von Variablen¶\n",
    "- Lage\n",
    "- Streuung\n",
    "- Form\n",
    "- Grafische Darstellung\n"
   ]
  },
  {
   "cell_type": "markdown",
   "id": "7783efbd-d84a-4895-abcb-a7115c7910b0",
   "metadata": {},
   "source": [
    "#### Zusammenhang von Variablen¶\n",
    "Qualitative Variabeln: Kreuztabellen\n",
    "Quantitative Variabeln: Scatter-Plots, Korrelationskoeffizienten\n"
   ]
  },
  {
   "cell_type": "code",
   "execution_count": null,
   "id": "d4fe4b9f-1442-4823-866e-23d38cc79f9c",
   "metadata": {},
   "outputs": [],
   "source": []
  }
 ],
 "metadata": {
  "kernelspec": {
   "display_name": "Python 3 (ipykernel)",
   "language": "python",
   "name": "python3"
  },
  "language_info": {
   "codemirror_mode": {
    "name": "ipython",
    "version": 3
   },
   "file_extension": ".py",
   "mimetype": "text/x-python",
   "name": "python",
   "nbconvert_exporter": "python",
   "pygments_lexer": "ipython3",
   "version": "3.9.6"
  }
 },
 "nbformat": 4,
 "nbformat_minor": 5
}
