{
 "cells": [
  {
   "cell_type": "markdown",
   "id": "d88d3429-388b-4bb0-a3da-951c6de5f67e",
   "metadata": {},
   "source": [
    "# Descriptive Stats"
   ]
  },
  {
   "cell_type": "markdown",
   "id": "711964ca-8fac-45d3-997c-952a8e085eec",
   "metadata": {},
   "source": [
    "#### Vorgaben\n",
    "\n",
    "- Komplette Beschreibung ihres Datensatzes:\n",
    "    - inklusive qualitativer und quantitativer Beschreibung der Variablen\n",
    "    - allfälliger Zusammenhänge zwischen Variablenpaaren.\n",
    "(Was bereits im Readme dokumentiert ist, muss nicht kopiert werden.)\n",
    "\n",
    "#### Abgabe\n",
    "\n",
    "**06. Dezember 2021**."
   ]
  },
  {
   "cell_type": "code",
   "execution_count": null,
   "id": "d4fe4b9f-1442-4823-866e-23d38cc79f9c",
   "metadata": {},
   "outputs": [],
   "source": [
    "# Daten laden\n",
    "import pandas as pd\n",
    "import fetch_data as m\n",
    "import matplotlib.pyplot as plt\n",
    "\n",
    "df_f = m.load_flights()\n",
    "df_a = m.load_airports()"
   ]
  },
  {
   "cell_type": "markdown",
   "id": "34adf331-3ca4-42ae-b1a2-7b2641bb0f88",
   "metadata": {},
   "source": [
    "### Lage"
   ]
  },
  {
   "cell_type": "markdown",
   "id": "fe7b50c7-eec9-4fc5-9639-9bf5c351aeee",
   "metadata": {},
   "source": [
    "#### Airports\n",
    "Als erstes möchten wir einen Überblick der Flughäfen erhalten. Dafür stellen wir die Anzahl Flughäfen pro Type dar. "
   ]
  },
  {
   "cell_type": "code",
   "execution_count": null,
   "id": "7bb096a7-01a0-4c15-9788-6b1ba49aafa4",
   "metadata": {},
   "outputs": [],
   "source": [
    "import descriptive_stats as ds\n",
    "bar = ds.bar_category(df_a, 'type', 'Bar-Chart Airport Typen' ,'Anzahl Flughafen')"
   ]
  },
  {
   "cell_type": "code",
   "execution_count": null,
   "id": "cc1a8c4e-3865-4d80-903c-1093316394b4",
   "metadata": {},
   "outputs": [],
   "source": [
    "print(ds.airport_infos(df_a))\n",
    "#get_infos = ds.airport_infos()"
   ]
  },
  {
   "cell_type": "markdown",
   "id": "46f9a676-1c14-42e5-a556-029dde920a5a",
   "metadata": {},
   "source": [
    "#### Flights\n",
    "Einen Überblick der Daten:"
   ]
  },
  {
   "cell_type": "code",
   "execution_count": null,
   "id": "234d0815-bfe6-4da8-b30b-b60c45e85e0b",
   "metadata": {},
   "outputs": [],
   "source": [
    "print(ds.flight_infos(df_f))"
   ]
  },
  {
   "cell_type": "code",
   "execution_count": null,
   "id": "ee311cb0-8148-4b33-8270-b78cdc7a9785",
   "metadata": {},
   "outputs": [],
   "source": [
    "flights = ds.show_flights(df_f)"
   ]
  },
  {
   "cell_type": "code",
   "execution_count": null,
   "id": "ff246713-b9ae-4982-a6bc-cda7f8fb9878",
   "metadata": {},
   "outputs": [],
   "source": []
  },
  {
   "cell_type": "code",
   "execution_count": null,
   "id": "db25d9f3-2f98-4ace-9c73-f25195d0a0d8",
   "metadata": {},
   "outputs": [],
   "source": []
  }
 ],
 "metadata": {
  "kernelspec": {
   "display_name": "Python 3 (ipykernel)",
   "language": "python",
   "name": "python3"
  },
  "language_info": {
   "codemirror_mode": {
    "name": "ipython",
    "version": 3
   },
   "file_extension": ".py",
   "mimetype": "text/x-python",
   "name": "python",
   "nbconvert_exporter": "python",
   "pygments_lexer": "ipython3",
   "version": "3.9.6"
  }
 },
 "nbformat": 4,
 "nbformat_minor": 5
}
