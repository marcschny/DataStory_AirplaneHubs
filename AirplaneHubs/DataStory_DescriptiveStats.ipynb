{
 "cells": [
  {
   "cell_type": "markdown",
   "id": "d88d3429-388b-4bb0-a3da-951c6de5f67e",
   "metadata": {},
   "source": [
    "# Descriptive Stats"
   ]
  },
  {
   "cell_type": "markdown",
   "id": "711964ca-8fac-45d3-997c-952a8e085eec",
   "metadata": {},
   "source": [
    "#### Vorgaben\n",
    "\n",
    "- Komplette Beschreibung ihres Datensatzes:\n",
    "    - inklusive qualitativer und quantitativer Beschreibung der Variablen\n",
    "    - allfälliger Zusammenhänge zwischen Variablenpaaren.\n",
    "(Was bereits im Readme dokumentiert ist, muss nicht kopiert werden.)\n",
    "\n",
    "#### Abgabe\n",
    "\n",
    "**06. Dezember 2021**."
   ]
  },
  {
   "cell_type": "markdown",
   "id": "41724122-9cde-4239-91af-9e545d2f858b",
   "metadata": {},
   "source": [
    "### Einleitung\n",
    "Die qualitative und quantitative Beschreibung unserer Variablen behandeln wir in folgender Reihenfolge:\n",
    "- \n",
    "\n",
    "\n",
    "\n",
    "\n",
    "#### Quantitative Beschreibung von Variablen¶\n",
    "- Lage\n",
    "- Streuung\n",
    "- Form\n",
    "- Grafische Darstellung\n"
   ]
  },
  {
   "cell_type": "markdown",
   "id": "7783efbd-d84a-4895-abcb-a7115c7910b0",
   "metadata": {},
   "source": [
    "#### Zusammenhang von Variablen¶\n",
    "Qualitative Variabeln: Kreuztabellen\n",
    "Quantitative Variabeln: Scatter-Plots, Korrelationskoeffizienten\n"
   ]
  },
  {
   "cell_type": "code",
   "execution_count": 1,
   "id": "d4fe4b9f-1442-4823-866e-23d38cc79f9c",
   "metadata": {},
   "outputs": [],
   "source": [
    "# Daten laden\n",
    "import pandas as pd\n",
    "import fetch_data as m\n",
    "\n",
    "df_f = m.load_flights()\n",
    "df_a = m.load_airports()"
   ]
  },
  {
   "cell_type": "markdown",
   "id": "34adf331-3ca4-42ae-b1a2-7b2641bb0f88",
   "metadata": {},
   "source": [
    "# Kategoriesche Variablen"
   ]
  },
  {
   "cell_type": "markdown",
   "id": "fe7b50c7-eec9-4fc5-9639-9bf5c351aeee",
   "metadata": {},
   "source": [
    "#### \n"
   ]
  },
  {
   "cell_type": "code",
   "execution_count": 2,
   "id": "7bb096a7-01a0-4c15-9788-6b1ba49aafa4",
   "metadata": {},
   "outputs": [
    {
     "data": {
      "text/html": [
       "<div>\n",
       "<style scoped>\n",
       "    .dataframe tbody tr th:only-of-type {\n",
       "        vertical-align: middle;\n",
       "    }\n",
       "\n",
       "    .dataframe tbody tr th {\n",
       "        vertical-align: top;\n",
       "    }\n",
       "\n",
       "    .dataframe thead th {\n",
       "        text-align: right;\n",
       "    }\n",
       "</style>\n",
       "<table border=\"1\" class=\"dataframe\">\n",
       "  <thead>\n",
       "    <tr style=\"text-align: right;\">\n",
       "      <th></th>\n",
       "      <th>callsign</th>\n",
       "      <th>origin</th>\n",
       "      <th>destination</th>\n",
       "      <th>day</th>\n",
       "    </tr>\n",
       "  </thead>\n",
       "  <tbody>\n",
       "    <tr>\n",
       "      <th>0</th>\n",
       "      <td>CCA583</td>\n",
       "      <td>KLAX</td>\n",
       "      <td>EDDF</td>\n",
       "      <td>2021-05-01</td>\n",
       "    </tr>\n",
       "    <tr>\n",
       "      <th>1</th>\n",
       "      <td>VCV3770</td>\n",
       "      <td>LYBE</td>\n",
       "      <td>UUWW</td>\n",
       "      <td>2021-05-01</td>\n",
       "    </tr>\n",
       "    <tr>\n",
       "      <th>2</th>\n",
       "      <td>UTN4490</td>\n",
       "      <td>UKBB</td>\n",
       "      <td>UKBB</td>\n",
       "      <td>2021-05-01</td>\n",
       "    </tr>\n",
       "    <tr>\n",
       "      <th>3</th>\n",
       "      <td>CCA627</td>\n",
       "      <td>ZGSZ</td>\n",
       "      <td>EDDF</td>\n",
       "      <td>2021-05-01</td>\n",
       "    </tr>\n",
       "    <tr>\n",
       "      <th>4</th>\n",
       "      <td>CES553</td>\n",
       "      <td>RJBB</td>\n",
       "      <td>LFPG</td>\n",
       "      <td>2021-05-01</td>\n",
       "    </tr>\n",
       "  </tbody>\n",
       "</table>\n",
       "</div>"
      ],
      "text/plain": [
       "  callsign origin destination        day\n",
       "0   CCA583   KLAX        EDDF 2021-05-01\n",
       "1  VCV3770   LYBE        UUWW 2021-05-01\n",
       "2  UTN4490   UKBB        UKBB 2021-05-01\n",
       "3   CCA627   ZGSZ        EDDF 2021-05-01\n",
       "4   CES553   RJBB        LFPG 2021-05-01"
      ]
     },
     "execution_count": 2,
     "metadata": {},
     "output_type": "execute_result"
    }
   ],
   "source": [
    "df_f.head()"
   ]
  },
  {
   "cell_type": "code",
   "execution_count": 3,
   "id": "cc1a8c4e-3865-4d80-903c-1093316394b4",
   "metadata": {},
   "outputs": [
    {
     "data": {
      "text/html": [
       "<div>\n",
       "<style scoped>\n",
       "    .dataframe tbody tr th:only-of-type {\n",
       "        vertical-align: middle;\n",
       "    }\n",
       "\n",
       "    .dataframe tbody tr th {\n",
       "        vertical-align: top;\n",
       "    }\n",
       "\n",
       "    .dataframe thead th {\n",
       "        text-align: right;\n",
       "    }\n",
       "</style>\n",
       "<table border=\"1\" class=\"dataframe\">\n",
       "  <thead>\n",
       "    <tr style=\"text-align: right;\">\n",
       "      <th></th>\n",
       "      <th>ident</th>\n",
       "      <th>type</th>\n",
       "      <th>name</th>\n",
       "      <th>latitude</th>\n",
       "      <th>longitude</th>\n",
       "    </tr>\n",
       "  </thead>\n",
       "  <tbody>\n",
       "    <tr>\n",
       "      <th>0</th>\n",
       "      <td>00A</td>\n",
       "      <td>heliport</td>\n",
       "      <td>Total Rf Heliport</td>\n",
       "      <td>-74.933601</td>\n",
       "      <td>40.070801</td>\n",
       "    </tr>\n",
       "    <tr>\n",
       "      <th>1</th>\n",
       "      <td>00AA</td>\n",
       "      <td>small_airport</td>\n",
       "      <td>Aero B Ranch Airport</td>\n",
       "      <td>-101.473911</td>\n",
       "      <td>38.704022</td>\n",
       "    </tr>\n",
       "    <tr>\n",
       "      <th>2</th>\n",
       "      <td>00AK</td>\n",
       "      <td>small_airport</td>\n",
       "      <td>Lowell Field</td>\n",
       "      <td>-151.695999</td>\n",
       "      <td>59.949200</td>\n",
       "    </tr>\n",
       "    <tr>\n",
       "      <th>3</th>\n",
       "      <td>00AL</td>\n",
       "      <td>small_airport</td>\n",
       "      <td>Epps Airpark</td>\n",
       "      <td>-86.770302</td>\n",
       "      <td>34.864799</td>\n",
       "    </tr>\n",
       "    <tr>\n",
       "      <th>4</th>\n",
       "      <td>00AR</td>\n",
       "      <td>closed</td>\n",
       "      <td>Newport Hospital &amp; Clinic Heliport</td>\n",
       "      <td>-91.254898</td>\n",
       "      <td>35.608700</td>\n",
       "    </tr>\n",
       "  </tbody>\n",
       "</table>\n",
       "</div>"
      ],
      "text/plain": [
       "  ident           type                                name    latitude  \\\n",
       "0   00A       heliport                   Total Rf Heliport  -74.933601   \n",
       "1  00AA  small_airport                Aero B Ranch Airport -101.473911   \n",
       "2  00AK  small_airport                        Lowell Field -151.695999   \n",
       "3  00AL  small_airport                        Epps Airpark  -86.770302   \n",
       "4  00AR         closed  Newport Hospital & Clinic Heliport  -91.254898   \n",
       "\n",
       "   longitude  \n",
       "0  40.070801  \n",
       "1  38.704022  \n",
       "2  59.949200  \n",
       "3  34.864799  \n",
       "4  35.608700  "
      ]
     },
     "execution_count": 3,
     "metadata": {},
     "output_type": "execute_result"
    }
   ],
   "source": [
    "df_a.head()"
   ]
  },
  {
   "cell_type": "code",
   "execution_count": 4,
   "id": "ece160ba-cb4d-46cb-ab34-4d1195fd9f01",
   "metadata": {},
   "outputs": [
    {
     "data": {
      "text/plain": [
       "callsign               object\n",
       "origin                 object\n",
       "destination            object\n",
       "day            datetime64[ns]\n",
       "dtype: object"
      ]
     },
     "execution_count": 4,
     "metadata": {},
     "output_type": "execute_result"
    }
   ],
   "source": [
    "df_f.dtypes"
   ]
  },
  {
   "cell_type": "code",
   "execution_count": 5,
   "id": "234d0815-bfe6-4da8-b30b-b60c45e85e0b",
   "metadata": {},
   "outputs": [
    {
     "data": {
      "text/plain": [
       "ident         object\n",
       "type          object\n",
       "name          object\n",
       "latitude     float64\n",
       "longitude    float64\n",
       "dtype: object"
      ]
     },
     "execution_count": 5,
     "metadata": {},
     "output_type": "execute_result"
    }
   ],
   "source": [
    "df_a.dtypes"
   ]
  },
  {
   "cell_type": "code",
   "execution_count": null,
   "id": "ee311cb0-8148-4b33-8270-b78cdc7a9785",
   "metadata": {},
   "outputs": [],
   "source": []
  }
 ],
 "metadata": {
  "kernelspec": {
   "display_name": "Python 3 (ipykernel)",
   "language": "python",
   "name": "python3"
  },
  "language_info": {
   "codemirror_mode": {
    "name": "ipython",
    "version": 3
   },
   "file_extension": ".py",
   "mimetype": "text/x-python",
   "name": "python",
   "nbconvert_exporter": "python",
   "pygments_lexer": "ipython3",
   "version": "3.9.6"
  }
 },
 "nbformat": 4,
 "nbformat_minor": 5
}
