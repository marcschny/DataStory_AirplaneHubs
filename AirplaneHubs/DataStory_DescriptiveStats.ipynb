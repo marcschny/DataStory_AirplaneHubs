{
 "cells": [
  {
   "cell_type": "markdown",
   "id": "d88d3429-388b-4bb0-a3da-951c6de5f67e",
   "metadata": {},
   "source": [
    "# Descriptive Stats"
   ]
  },
  {
   "cell_type": "markdown",
   "id": "711964ca-8fac-45d3-997c-952a8e085eec",
   "metadata": {},
   "source": [
    "#### Vorgaben\n",
    "\n",
    "- Komplette Beschreibung ihres Datensatzes:\n",
    "    - inklusive qualitativer und quantitativer Beschreibung der Variablen\n",
    "    - allfälliger Zusammenhänge zwischen Variablenpaaren.\n",
    "(Was bereits im Readme dokumentiert ist, muss nicht kopiert werden.)\n",
    "\n",
    "#### Abgabe\n",
    "\n",
    "**06. Dezember 2021**."
   ]
  },
  {
   "cell_type": "markdown",
   "id": "41724122-9cde-4239-91af-9e545d2f858b",
   "metadata": {},
   "source": [
    "#### Quantitative Beschreibung von Variablen¶\n",
    "- Lage\n",
    "- Streuung\n",
    "- Form\n",
    "- Grafische Darstellung\n"
   ]
  },
  {
   "cell_type": "markdown",
   "id": "7783efbd-d84a-4895-abcb-a7115c7910b0",
   "metadata": {},
   "source": [
    "#### Zusammenhang von Variablen¶\n",
    "Qualitative Variabeln: Kreuztabellen\n",
    "Quantitative Variabeln: Scatter-Plots, Korrelationskoeffizienten\n"
   ]
  },
  {
   "cell_type": "code",
   "execution_count": 1,
   "id": "d4fe4b9f-1442-4823-866e-23d38cc79f9c",
   "metadata": {},
   "outputs": [],
   "source": [
    "import pandas as pd\n",
    "import fetch_data as m\n",
    "\n",
    "data_f = m.load_flights()\n",
    "data_a = m.load_airports()"
   ]
  },
  {
   "cell_type": "code",
   "execution_count": 2,
   "id": "3870e487-5cb9-4b6c-8695-b9d290b609b4",
   "metadata": {},
   "outputs": [
    {
     "data": {
      "text/html": [
       "<div>\n",
       "<style scoped>\n",
       "    .dataframe tbody tr th:only-of-type {\n",
       "        vertical-align: middle;\n",
       "    }\n",
       "\n",
       "    .dataframe tbody tr th {\n",
       "        vertical-align: top;\n",
       "    }\n",
       "\n",
       "    .dataframe thead th {\n",
       "        text-align: right;\n",
       "    }\n",
       "</style>\n",
       "<table border=\"1\" class=\"dataframe\">\n",
       "  <thead>\n",
       "    <tr style=\"text-align: right;\">\n",
       "      <th></th>\n",
       "      <th>callsign</th>\n",
       "      <th>origin</th>\n",
       "      <th>destination</th>\n",
       "      <th>day</th>\n",
       "    </tr>\n",
       "  </thead>\n",
       "  <tbody>\n",
       "    <tr>\n",
       "      <th>0</th>\n",
       "      <td>UAE323</td>\n",
       "      <td>OMDB</td>\n",
       "      <td>OMDB</td>\n",
       "      <td>2021-09-01 00:00:00+00:00</td>\n",
       "    </tr>\n",
       "    <tr>\n",
       "      <th>1</th>\n",
       "      <td>UNDEF</td>\n",
       "      <td>KUES</td>\n",
       "      <td>KNKX</td>\n",
       "      <td>2021-09-01 00:00:00+00:00</td>\n",
       "    </tr>\n",
       "    <tr>\n",
       "      <th>2</th>\n",
       "      <td>ETH724</td>\n",
       "      <td>KJFK</td>\n",
       "      <td>LOWW</td>\n",
       "      <td>2021-09-01 00:00:00+00:00</td>\n",
       "    </tr>\n",
       "    <tr>\n",
       "      <th>3</th>\n",
       "      <td>ACI140S</td>\n",
       "      <td>RJAA</td>\n",
       "      <td>YSSY</td>\n",
       "      <td>2021-09-01 00:00:00+00:00</td>\n",
       "    </tr>\n",
       "    <tr>\n",
       "      <th>4</th>\n",
       "      <td>KAL541</td>\n",
       "      <td>PANC</td>\n",
       "      <td>LOWW</td>\n",
       "      <td>2021-09-01 00:00:00+00:00</td>\n",
       "    </tr>\n",
       "  </tbody>\n",
       "</table>\n",
       "</div>"
      ],
      "text/plain": [
       "  callsign origin destination                        day\n",
       "0   UAE323   OMDB        OMDB  2021-09-01 00:00:00+00:00\n",
       "1    UNDEF   KUES        KNKX  2021-09-01 00:00:00+00:00\n",
       "2   ETH724   KJFK        LOWW  2021-09-01 00:00:00+00:00\n",
       "3  ACI140S   RJAA        YSSY  2021-09-01 00:00:00+00:00\n",
       "4   KAL541   PANC        LOWW  2021-09-01 00:00:00+00:00"
      ]
     },
     "execution_count": 2,
     "metadata": {},
     "output_type": "execute_result"
    }
   ],
   "source": [
    "df_f = pd.DataFrame(data_f)\n",
    "df_f.head()"
   ]
  },
  {
   "cell_type": "code",
   "execution_count": 3,
   "id": "af94bc6d-8a8d-48b3-9462-d5e37e7ec764",
   "metadata": {},
   "outputs": [
    {
     "data": {
      "text/html": [
       "<div>\n",
       "<style scoped>\n",
       "    .dataframe tbody tr th:only-of-type {\n",
       "        vertical-align: middle;\n",
       "    }\n",
       "\n",
       "    .dataframe tbody tr th {\n",
       "        vertical-align: top;\n",
       "    }\n",
       "\n",
       "    .dataframe thead th {\n",
       "        text-align: right;\n",
       "    }\n",
       "</style>\n",
       "<table border=\"1\" class=\"dataframe\">\n",
       "  <thead>\n",
       "    <tr style=\"text-align: right;\">\n",
       "      <th></th>\n",
       "      <th>ident</th>\n",
       "      <th>name</th>\n",
       "      <th>latitude</th>\n",
       "      <th>longitude</th>\n",
       "    </tr>\n",
       "  </thead>\n",
       "  <tbody>\n",
       "    <tr>\n",
       "      <th>0</th>\n",
       "      <td>00A</td>\n",
       "      <td>Total Rf Heliport</td>\n",
       "      <td>-74.93360137939453</td>\n",
       "      <td>40.07080078125</td>\n",
       "    </tr>\n",
       "    <tr>\n",
       "      <th>1</th>\n",
       "      <td>00AA</td>\n",
       "      <td>Aero B Ranch Airport</td>\n",
       "      <td>-101.473911</td>\n",
       "      <td>38.704022</td>\n",
       "    </tr>\n",
       "    <tr>\n",
       "      <th>2</th>\n",
       "      <td>00AK</td>\n",
       "      <td>Lowell Field</td>\n",
       "      <td>-151.695999146</td>\n",
       "      <td>59.94919968</td>\n",
       "    </tr>\n",
       "    <tr>\n",
       "      <th>3</th>\n",
       "      <td>00AL</td>\n",
       "      <td>Epps Airpark</td>\n",
       "      <td>-86.77030181884766</td>\n",
       "      <td>34.86479949951172</td>\n",
       "    </tr>\n",
       "    <tr>\n",
       "      <th>4</th>\n",
       "      <td>00AR</td>\n",
       "      <td>Newport Hospital &amp; Clinic Heliport</td>\n",
       "      <td>-91.254898</td>\n",
       "      <td>35.6087</td>\n",
       "    </tr>\n",
       "  </tbody>\n",
       "</table>\n",
       "</div>"
      ],
      "text/plain": [
       "  ident                                name            latitude  \\\n",
       "0   00A                   Total Rf Heliport  -74.93360137939453   \n",
       "1  00AA                Aero B Ranch Airport         -101.473911   \n",
       "2  00AK                        Lowell Field      -151.695999146   \n",
       "3  00AL                        Epps Airpark  -86.77030181884766   \n",
       "4  00AR  Newport Hospital & Clinic Heliport          -91.254898   \n",
       "\n",
       "            longitude  \n",
       "0      40.07080078125  \n",
       "1           38.704022  \n",
       "2         59.94919968  \n",
       "3   34.86479949951172  \n",
       "4             35.6087  "
      ]
     },
     "execution_count": 3,
     "metadata": {},
     "output_type": "execute_result"
    }
   ],
   "source": [
    "df_a = pd.DataFrame(data_a)\n",
    "df_a.head()"
   ]
  },
  {
   "cell_type": "code",
   "execution_count": null,
   "id": "7bb096a7-01a0-4c15-9788-6b1ba49aafa4",
   "metadata": {},
   "outputs": [],
   "source": []
  },
  {
   "cell_type": "code",
   "execution_count": null,
   "id": "cc1a8c4e-3865-4d80-903c-1093316394b4",
   "metadata": {},
   "outputs": [],
   "source": []
  }
 ],
 "metadata": {
  "kernelspec": {
   "display_name": "Python 3 (ipykernel)",
   "language": "python",
   "name": "python3"
  },
  "language_info": {
   "codemirror_mode": {
    "name": "ipython",
    "version": 3
   },
   "file_extension": ".py",
   "mimetype": "text/x-python",
   "name": "python",
   "nbconvert_exporter": "python",
   "pygments_lexer": "ipython3",
   "version": "3.9.6"
  }
 },
 "nbformat": 4,
 "nbformat_minor": 5
}
