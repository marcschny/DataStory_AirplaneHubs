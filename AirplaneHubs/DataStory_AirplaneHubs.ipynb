{
 "cells": [
  {
   "cell_type": "markdown",
   "id": "4d6c9e73-3ce5-4b8a-8c00-92a9f5a82a85",
   "metadata": {},
   "source": [
    "# AirplaneHubs Datastory\n",
    "- Welche Flughäfen weisen einen hohen Flugverkehr auf?\n",
    "- Welche Flughäfen weisen die meisten Verbindungen auf?\n",
    "- Welches sind die längsten Distanzen die zurückgelegt werden?\n",
    "- Welche Flughäfen können als Verkehrsknotenpunkt identifiziert werden?\n",
    "- Welche Unterschiede in den Flugbewegungen sind im Sommer zum Frühling zu sehen?"
   ]
  },
  {
   "cell_type": "markdown",
   "id": "e032f924-8534-440a-826a-cdecbb2d3c0b",
   "metadata": {},
   "source": [
    "1. Distanzen vorberechnen und in Spalte einfügen. (fetch_data.py)\n",
    "2. -> Story: Welche Flughäfen hoher FLugverkehr..."
   ]
  },
  {
   "cell_type": "code",
   "execution_count": null,
   "id": "ca7ad6c8-bd17-4a50-b030-6ef2bd4c8b1b",
   "metadata": {},
   "outputs": [],
   "source": []
  }
 ],
 "metadata": {
  "kernelspec": {
   "display_name": "Python 3 (ipykernel)",
   "language": "python",
   "name": "python3"
  },
  "language_info": {
   "codemirror_mode": {
    "name": "ipython",
    "version": 3
   },
   "file_extension": ".py",
   "mimetype": "text/x-python",
   "name": "python",
   "nbconvert_exporter": "python",
   "pygments_lexer": "ipython3",
   "version": "3.9.6"
  }
 },
 "nbformat": 4,
 "nbformat_minor": 5
}
