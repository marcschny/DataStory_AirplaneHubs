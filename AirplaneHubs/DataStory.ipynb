{
 "cells": [
  {
   "cell_type": "markdown",
   "id": "b784b697-0058-47f4-8583-f4fa6407a209",
   "metadata": {},
   "source": [
    "# DataStory - Airplane Hubs\n",
    "\n",
    "## Abstract\n",
    "Kurze zusammenfassung - was habt ihr untersucht, was habt ihr gefunden.\n",
    "\n",
    "Die DataStory \"Airplane Hubs\" beinhaltet die Anyalyse des Luftverkehrs von Flugverbindungen vom Monat Mai sowie September über zentrale Verkehrsknoten im Luftverkehrsnetz weltweit. \n",
    "\n",
    "Die Flugrohdaten werden auf Distanz (km), Region und Destinationen aufbereitet und gefiltert. Im Anschluss werden Fragen zu Anzahl Verbindungen, Flugverkehraufkommen, längste Distanzen und zeitlichen Differenzen behandelt und untersucht.\n",
    "\n",
    "Aus den Resultaten geht hervor, dass die USA generell einen viel höheren Flugbetrieb, als andere Staaten aufweist. Die erhobenen Knotenpunkte wie Chicago, Amsterdam, Dubai, Hong-Kong oder Sydney reflektieren auf der Karte ein höheres Aufkommen bei Grossstädten am Äquator. \n",
    "\n",
    "Distanz\n",
    "Unterschied"
   ]
  },
  {
   "cell_type": "markdown",
   "id": "bfe11201-6cc9-47e3-b383-63d4a3ee99db",
   "metadata": {},
   "source": [
    "## Introduction\n",
    "Gebt hier etwas Kontext zum Datensatz und zur Frage die ihr untersucht. Warum sind die Fragen interessant/relevant? Was für Erkenntnisse zum Datensatz sind bereits bekannt? Wie stehen eure Fragen dazu im Kontrast?\n",
    "\n",
    "AirplaneHubs entstand aus der Idee, CO-2 Emissionen von Flugverbindungen zu berechenen. Aufgrund der komplexen Berechnung der Emission und deren benötigten Informationen, wurden wir gezungen umzugestalten. In Anbetracht der vorliegenden Datensammlung, entschieden wir uns globale Verkehrsknotenpunkte zu untersuchen.<br><br>\n",
    "\n",
    "Die Analyse von Verkehrknotenpunkte ist interessant aus dem Grund, dass es ein gewisses Schaubild eines CO2-Emissionwert repräsentiert aufgrund der Anzahl Flugverbindungen. Die anschliessende Frage der Distanzen hilft erneut Aufschluss über die Verkehrknotenpunkte zu zeigen und so weltweite Flugverkehrslinien aufzuzeigen. Desweiteren stellten wir uns die Frage, inwiesehr sich die Daten in zeitlichen Intervall unterscheiden. Ändern sich Knotenpunkte? Sind Feriendestinationen als Verkehrknoten sichtbar? Gab es öfters längere Flüge im Frühling oder nach den ersten Lockdowns im September? \n",
    "<br>\n",
    "Schnell zu erkennen sind die grossen regionalen Unterschiede der Anzahl gesammelter Verbindungen (nicht alle Fluggesselschaften können gesammelt werden). Dies führt uns zum Schluss, dass wir zwingend Flughäfen in Ihrer Region unterscheiden, um repräsentative Daten zur Behandlung der Verkehrknoten zu erhalten. Wir unterteilen in folgende Regionen: \n",
    "- Unbekannt\n",
    "- Südeuropa\n",
    "- Nordeuropa\n",
    "- USA\n",
    "- Alle anderen Kontinenten. "
   ]
  },
  {
   "cell_type": "markdown",
   "id": "f981e11d-c4bc-4db0-8999-bb1831cec26d",
   "metadata": {},
   "source": [
    "## Results\n",
    "Beschreibt hier die Daten und die Zusammenhänge die ihr untersucht und findet. Beschränkt euch hier auf 5 Plots."
   ]
  },
  {
   "cell_type": "markdown",
   "id": "55c9296c-f0d7-4b31-8988-288aeb0e6315",
   "metadata": {},
   "source": [
    "## Conclusion\n",
    "Wie beurteilt ihr eure Einsichten? Was könnte man noch weiter tun?"
   ]
  },
  {
   "cell_type": "code",
   "execution_count": null,
   "id": "f16a1292-d781-45c8-a27f-cca4170c36a4",
   "metadata": {},
   "outputs": [],
   "source": []
  }
 ],
 "metadata": {
  "kernelspec": {
   "display_name": "Python 3 (ipykernel)",
   "language": "python",
   "name": "python3"
  },
  "language_info": {
   "codemirror_mode": {
    "name": "ipython",
    "version": 3
   },
   "file_extension": ".py",
   "mimetype": "text/x-python",
   "name": "python",
   "nbconvert_exporter": "python",
   "pygments_lexer": "ipython3",
   "version": "3.9.6"
  }
 },
 "nbformat": 4,
 "nbformat_minor": 5
}
